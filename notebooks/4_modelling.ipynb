{
 "cells": [
  {
   "cell_type": "markdown",
   "id": "bf1abf6c",
   "metadata": {},
   "source": [
    "# Modelling"
   ]
  },
  {
   "cell_type": "code",
   "execution_count": 1,
   "id": "62a77378",
   "metadata": {},
   "outputs": [],
   "source": [
    "import time\n",
    "import pandas as pd\n",
    "from sklearn.svm import SVC\n",
    "from sklearn.dummy import DummyClassifier\n",
    "from sklearn.naive_bayes import MultinomialNB\n",
    "from sklearn.linear_model import LogisticRegression\n",
    "from sklearn.metrics import classification_report\n",
    "import warnings\n",
    "warnings.filterwarnings(\"ignore\")"
   ]
  },
  {
   "cell_type": "code",
   "execution_count": 2,
   "id": "9870850a",
   "metadata": {},
   "outputs": [],
   "source": [
    "X_train = pd.read_csv('../data/X_train.csv', index_col=0)\n",
    "y_train = pd.read_csv('../data/y_train.csv', index_col=0)\n",
    "X_test = pd.read_csv('../data/X_train.csv', index_col=0)\n",
    "y_test = pd.read_csv('../data/y_train.csv', index_col=0)"
   ]
  },
  {
   "cell_type": "markdown",
   "id": "59598714",
   "metadata": {},
   "source": [
    "### Modelling"
   ]
  },
  {
   "cell_type": "markdown",
   "id": "de12aea5",
   "metadata": {},
   "source": [
    "My initial idea for this project was to implement deep learning for modelling. However, after doing more research, it seems that deep learning models fair similarly to dictionary based and traditional machine learning methods. Therefore, for this project, I will go the more traditional route. This is to simply save processing time as the results would likely be similar to using a deep learning frame work."
   ]
  },
  {
   "cell_type": "markdown",
   "id": "a9bbd72f",
   "metadata": {},
   "source": [
    "I have selected 3 models to test plus one dummy model as a baseline:\n",
    "\n",
    "- Naive Bayes\n",
    "- SVM\n",
    "- Logitic Regression"
   ]
  },
  {
   "cell_type": "markdown",
   "id": "f60326e8",
   "metadata": {},
   "source": [
    "### Dummy Model"
   ]
  },
  {
   "cell_type": "markdown",
   "id": "cfcaa53d",
   "metadata": {},
   "source": [
    "For the dummy model, I will use the most frequent label to make all the classifications."
   ]
  },
  {
   "cell_type": "code",
   "execution_count": 3,
   "id": "eb1d6a61",
   "metadata": {},
   "outputs": [
    {
     "name": "stdout",
     "output_type": "stream",
     "text": [
      "              precision    recall  f1-score   support\n",
      "\n",
      "           0       0.85      1.00      0.92     16047\n",
      "           1       0.00      0.00      0.00      2892\n",
      "\n",
      "    accuracy                           0.85     18939\n",
      "   macro avg       0.42      0.50      0.46     18939\n",
      "weighted avg       0.72      0.85      0.78     18939\n",
      "\n"
     ]
    }
   ],
   "source": [
    "dummy = DummyClassifier(strategy='most_frequent')\n",
    "dummy.fit(X_train, y_train)\n",
    "y_predict_dummy = dummy.predict(X_test)\n",
    "dummy_report = classification_report(y_test, y_predict_dummy)\n",
    "print(dummy_report)"
   ]
  },
  {
   "cell_type": "markdown",
   "id": "6dd3f676",
   "metadata": {},
   "source": [
    "### Naive Bayes"
   ]
  },
  {
   "cell_type": "code",
   "execution_count": 4,
   "id": "b7ed250c",
   "metadata": {},
   "outputs": [],
   "source": [
    "start_time = time.time()\n",
    "nb = MultinomialNB(alpha=0.1)\n",
    "nb.fit(X_train, y_train)\n",
    "y_predict_nb = nb.predict(X_test)\n",
    "end_time = time.time()"
   ]
  },
  {
   "cell_type": "code",
   "execution_count": 5,
   "id": "f479fbf1",
   "metadata": {},
   "outputs": [
    {
     "name": "stdout",
     "output_type": "stream",
     "text": [
      "              precision    recall  f1-score   support\n",
      "\n",
      "           0       0.91      0.98      0.94     16047\n",
      "           1       0.83      0.43      0.57      2892\n",
      "\n",
      "    accuracy                           0.90     18939\n",
      "   macro avg       0.87      0.71      0.76     18939\n",
      "weighted avg       0.89      0.90      0.89     18939\n",
      "\n",
      "Execution time: 0.24596641858418783 min\n"
     ]
    }
   ],
   "source": [
    "nb_report = classification_report(y_test, y_predict_nb)\n",
    "print(nb_report)\n",
    "print(\"Execution time: %s min\" % ((end_time - start_time)/60))"
   ]
  },
  {
   "cell_type": "markdown",
   "id": "5631a059",
   "metadata": {},
   "source": [
    "### Logistic Regression"
   ]
  },
  {
   "cell_type": "code",
   "execution_count": 6,
   "id": "e0eaf6eb",
   "metadata": {},
   "outputs": [],
   "source": [
    "start_time = time.time()\n",
    "lr = LogisticRegression()\n",
    "lr.fit(X_train, y_train)\n",
    "y_predict_lr = lr.predict(X_test)\n",
    "end_time = time.time()"
   ]
  },
  {
   "cell_type": "code",
   "execution_count": 7,
   "id": "9c9d6ffb",
   "metadata": {},
   "outputs": [
    {
     "name": "stdout",
     "output_type": "stream",
     "text": [
      "              precision    recall  f1-score   support\n",
      "\n",
      "           0       0.89      0.99      0.94     16047\n",
      "           1       0.91      0.30      0.45      2892\n",
      "\n",
      "    accuracy                           0.89     18939\n",
      "   macro avg       0.90      0.65      0.69     18939\n",
      "weighted avg       0.89      0.89      0.86     18939\n",
      "\n",
      "Execution time: 1.3989588499069214 min\n"
     ]
    }
   ],
   "source": [
    "lr_report = classification_report(y_test, y_predict_lr)\n",
    "print(lr_report)\n",
    "print(\"Execution time: %s min\" % ((end_time - start_time)/60))"
   ]
  },
  {
   "cell_type": "markdown",
   "id": "7dde5e2a",
   "metadata": {},
   "source": [
    "### Support Vector Machine"
   ]
  },
  {
   "cell_type": "code",
   "execution_count": 8,
   "id": "7ac6c431",
   "metadata": {},
   "outputs": [],
   "source": [
    "start_time = time.time()\n",
    "svm = SVC()\n",
    "svm.fit(X_train, y_train)\n",
    "y_predict_svm = svm.predict(X_test)\n",
    "end_time = time.time()"
   ]
  },
  {
   "cell_type": "code",
   "execution_count": 9,
   "id": "fd10002c",
   "metadata": {},
   "outputs": [
    {
     "name": "stdout",
     "output_type": "stream",
     "text": [
      "              precision    recall  f1-score   support\n",
      "\n",
      "           0       0.95      1.00      0.97     16047\n",
      "           1       0.98      0.70      0.82      2892\n",
      "\n",
      "    accuracy                           0.95     18939\n",
      "   macro avg       0.97      0.85      0.89     18939\n",
      "weighted avg       0.95      0.95      0.95     18939\n",
      "\n",
      "Execution time: 300.7205369830132 min\n"
     ]
    }
   ],
   "source": [
    "svm_report = classification_report(y_test, y_predict_svm)\n",
    "print(svm_report)\n",
    "print(\"Execution time: %s min\" % ((end_time - start_time)/60))"
   ]
  },
  {
   "cell_type": "markdown",
   "id": "ca385b52",
   "metadata": {},
   "source": [
    "## Conclusions"
   ]
  },
  {
   "cell_type": "markdown",
   "id": "b0d72f0c",
   "metadata": {},
   "source": [
    "It is clear that the best model for the job is SVM. It had the best metrics from all the other models. Additionally, My model is comparable, and in some cases better, to previous related works."
   ]
  },
  {
   "cell_type": "markdown",
   "id": "825c2130",
   "metadata": {},
   "source": [
    "Potential issues:\n",
    "- Imbalanced dataset\n",
    "- Sentence structure from song to song varies. Many song will have a single sentence on multiple lines.\n",
    "- Explicitness can be subjective\n",
    "- A song could contain only one swear word or phrase and be categorized as explicit\n",
    "- Some songs from lesser known artists have songs that could be considered explicit, but are truly not.\n",
    "\n",
    "Future Work:\n",
    "- Incorporate dictionary based method to the model\n",
    "- Use more data"
   ]
  }
 ],
 "metadata": {
  "kernelspec": {
   "display_name": "Python 3",
   "language": "python",
   "name": "python3"
  },
  "language_info": {
   "codemirror_mode": {
    "name": "ipython",
    "version": 3
   },
   "file_extension": ".py",
   "mimetype": "text/x-python",
   "name": "python",
   "nbconvert_exporter": "python",
   "pygments_lexer": "ipython3",
   "version": "3.8.8"
  }
 },
 "nbformat": 4,
 "nbformat_minor": 5
}
