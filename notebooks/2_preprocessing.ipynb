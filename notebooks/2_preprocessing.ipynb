{
 "cells": [
  {
   "cell_type": "code",
   "execution_count": 1,
   "metadata": {},
   "outputs": [],
   "source": [
    "import re\n",
    "import time\n",
    "import spacy\n",
    "import pandas as pd\n",
    "from sklearn.preprocessing import LabelEncoder\n",
    "from sklearn.model_selection import train_test_split\n",
    "from sklearn.feature_extraction.text import CountVectorizer\n",
    "from sklearn.feature_extraction.text import TfidfVectorizer"
   ]
  },
  {
   "cell_type": "markdown",
   "metadata": {},
   "source": [
    "# Preprocessing"
   ]
  },
  {
   "cell_type": "markdown",
   "metadata": {},
   "source": [
    "The overall break down of preprocessing is as follows:\n",
    "   1. Filter out certain headers and tags in the lyrics\n",
    "   2. Apply POS tagger\n",
    "   3. Binary encode True/False labels \n",
    "   4. Appy TF-IDF with unigrams, bigrams and trigrams\n",
    "   5. Create training and testing sets \n",
    "   \n",
    "To start I'll load in the data. "
   ]
  },
  {
   "cell_type": "code",
   "execution_count": 2,
   "metadata": {
    "scrolled": true
   },
   "outputs": [
    {
     "name": "stdout",
     "output_type": "stream",
     "text": [
      "(27057, 8)\n"
     ]
    },
    {
     "data": {
      "text/html": [
       "<div>\n",
       "<style scoped>\n",
       "    .dataframe tbody tr th:only-of-type {\n",
       "        vertical-align: middle;\n",
       "    }\n",
       "\n",
       "    .dataframe tbody tr th {\n",
       "        vertical-align: top;\n",
       "    }\n",
       "\n",
       "    .dataframe thead th {\n",
       "        text-align: right;\n",
       "    }\n",
       "</style>\n",
       "<table border=\"1\" class=\"dataframe\">\n",
       "  <thead>\n",
       "    <tr style=\"text-align: right;\">\n",
       "      <th></th>\n",
       "      <th>Unnamed: 0</th>\n",
       "      <th>Unnamed: 0.1</th>\n",
       "      <th>album_genre</th>\n",
       "      <th>genre</th>\n",
       "      <th>artist</th>\n",
       "      <th>title</th>\n",
       "      <th>explicit_label</th>\n",
       "      <th>lyrics</th>\n",
       "    </tr>\n",
       "  </thead>\n",
       "  <tbody>\n",
       "    <tr>\n",
       "      <th>0</th>\n",
       "      <td>0</td>\n",
       "      <td>0</td>\n",
       "      <td>Folk Rock</td>\n",
       "      <td>NaN</td>\n",
       "      <td>Jim Croce</td>\n",
       "      <td>Top Hat Bar And Grille</td>\n",
       "      <td>False</td>\n",
       "      <td>Well, if you're lookin' for a good time\\nLook ...</td>\n",
       "    </tr>\n",
       "    <tr>\n",
       "      <th>1</th>\n",
       "      <td>1</td>\n",
       "      <td>1</td>\n",
       "      <td>Pop</td>\n",
       "      <td>NaN</td>\n",
       "      <td>Aloe Blacc</td>\n",
       "      <td>The Hand Is Quicker</td>\n",
       "      <td>False</td>\n",
       "      <td>The hand is quicker than the eye\\nAnd sometime...</td>\n",
       "    </tr>\n",
       "    <tr>\n",
       "      <th>2</th>\n",
       "      <td>2</td>\n",
       "      <td>2</td>\n",
       "      <td>Pop</td>\n",
       "      <td>[\"Pop rock\"]</td>\n",
       "      <td>Lionel Richie</td>\n",
       "      <td>Dancing On The Ceiling</td>\n",
       "      <td>False</td>\n",
       "      <td>(Cheering)\\nWhoo!\\n\\nWhat is happening here\\nS...</td>\n",
       "    </tr>\n",
       "  </tbody>\n",
       "</table>\n",
       "</div>"
      ],
      "text/plain": [
       "   Unnamed: 0  Unnamed: 0.1 album_genre         genre         artist  \\\n",
       "0           0             0   Folk Rock           NaN      Jim Croce   \n",
       "1           1             1         Pop           NaN     Aloe Blacc   \n",
       "2           2             2         Pop  [\"Pop rock\"]  Lionel Richie   \n",
       "\n",
       "                    title  explicit_label  \\\n",
       "0  Top Hat Bar And Grille           False   \n",
       "1     The Hand Is Quicker           False   \n",
       "2  Dancing On The Ceiling           False   \n",
       "\n",
       "                                              lyrics  \n",
       "0  Well, if you're lookin' for a good time\\nLook ...  \n",
       "1  The hand is quicker than the eye\\nAnd sometime...  \n",
       "2  (Cheering)\\nWhoo!\\n\\nWhat is happening here\\nS...  "
      ]
     },
     "execution_count": 2,
     "metadata": {},
     "output_type": "execute_result"
    }
   ],
   "source": [
    "data = pd.read_csv('../data/lyrics_data.csv')\n",
    "print(data.shape)\n",
    "data.head(3)"
   ]
  },
  {
   "cell_type": "code",
   "execution_count": 3,
   "metadata": {},
   "outputs": [
    {
     "name": "stdout",
     "output_type": "stream",
     "text": [
      "(27057, 8)\n"
     ]
    }
   ],
   "source": [
    "data = data[data['explicit_label'].notna()]\n",
    "print(data.shape)"
   ]
  },
  {
   "cell_type": "markdown",
   "metadata": {},
   "source": [
    "### Filter Sections and Headers in Lyrics"
   ]
  },
  {
   "cell_type": "markdown",
   "metadata": {},
   "source": [
    "There are a few key things that have to be done in order to preprocess the lyrics data. As per an article on [genius](https://genius.com/Genius-song-sections-and-headers-guide-annotated) , there are several sections and headers a song can have. Examples of this can be **\\[Chorus\\]** or **\\[Intro\\]**.\n",
    "\n",
    "These sections are labelled in the lyrics are part of the output from the Genius API. These have to be filtered out, as these section and header annotations are not part of the original song lyrics.\n",
    "\n",
    "In addition to removing the sections and headers, I will also remove unnecesary line breaks, tags at the end of the text and any non-english characters."
   ]
  },
  {
   "cell_type": "code",
   "execution_count": 4,
   "metadata": {},
   "outputs": [],
   "source": [
    "def preprocess_lyrics(lyrics):\n",
    "    if type(lyrics) is not str:\n",
    "        lyrics = \"\"\n",
    "        return lyrics\n",
    "    else:\n",
    "        lyrics = re.sub(r'[^a-zA-Z0-9: +=*&^%$#@!~`\";:?/\\\\<>.,\\-_\\]\\[\\'\\n]', '', lyrics) # remove any non english characters\n",
    "        lyrics = re.sub(r'[0-9]', '', lyrics) # remove numbers\n",
    "        lyrics = re.sub(r\"[a-zA-Z0-9 -:]*]\", \"\", lyrics) # remove song sections\n",
    "        lyrics = re.sub(r\"\\[\", \"\", lyrics) # remove bracket\n",
    "        lyrics = re.sub(r\"[\\n]{1,}\", \". \", lyrics) # remove multiple newline characters with just a single line\n",
    "        lyrics = re.sub(r\"[0-9]*EmbedShare URLCopyEmbedCopy\", \"\", lyrics) # remove tag at the end\n",
    "\n",
    "    return lyrics"
   ]
  },
  {
   "cell_type": "code",
   "execution_count": 5,
   "metadata": {},
   "outputs": [],
   "source": [
    "data['lyrics'] = data['lyrics'].apply(preprocess_lyrics)"
   ]
  },
  {
   "cell_type": "code",
   "execution_count": 6,
   "metadata": {},
   "outputs": [],
   "source": [
    "data = data[['artist', 'title', 'lyrics', 'explicit_label']]"
   ]
  },
  {
   "cell_type": "code",
   "execution_count": 7,
   "metadata": {},
   "outputs": [
    {
     "data": {
      "text/html": [
       "<div>\n",
       "<style scoped>\n",
       "    .dataframe tbody tr th:only-of-type {\n",
       "        vertical-align: middle;\n",
       "    }\n",
       "\n",
       "    .dataframe tbody tr th {\n",
       "        vertical-align: top;\n",
       "    }\n",
       "\n",
       "    .dataframe thead th {\n",
       "        text-align: right;\n",
       "    }\n",
       "</style>\n",
       "<table border=\"1\" class=\"dataframe\">\n",
       "  <thead>\n",
       "    <tr style=\"text-align: right;\">\n",
       "      <th></th>\n",
       "      <th>artist</th>\n",
       "      <th>title</th>\n",
       "      <th>lyrics</th>\n",
       "      <th>explicit_label</th>\n",
       "    </tr>\n",
       "  </thead>\n",
       "  <tbody>\n",
       "    <tr>\n",
       "      <th>0</th>\n",
       "      <td>Jim Croce</td>\n",
       "      <td>Top Hat Bar And Grille</td>\n",
       "      <td>Well, if you're lookin' for a good time. Look ...</td>\n",
       "      <td>False</td>\n",
       "    </tr>\n",
       "    <tr>\n",
       "      <th>1</th>\n",
       "      <td>Aloe Blacc</td>\n",
       "      <td>The Hand Is Quicker</td>\n",
       "      <td>The hand is quicker than the eye. And sometime...</td>\n",
       "      <td>False</td>\n",
       "    </tr>\n",
       "    <tr>\n",
       "      <th>2</th>\n",
       "      <td>Lionel Richie</td>\n",
       "      <td>Dancing On The Ceiling</td>\n",
       "      <td>Cheering. Whoo!. What is happening here. Somet...</td>\n",
       "      <td>False</td>\n",
       "    </tr>\n",
       "  </tbody>\n",
       "</table>\n",
       "</div>"
      ],
      "text/plain": [
       "          artist                   title  \\\n",
       "0      Jim Croce  Top Hat Bar And Grille   \n",
       "1     Aloe Blacc     The Hand Is Quicker   \n",
       "2  Lionel Richie  Dancing On The Ceiling   \n",
       "\n",
       "                                              lyrics  explicit_label  \n",
       "0  Well, if you're lookin' for a good time. Look ...           False  \n",
       "1  The hand is quicker than the eye. And sometime...           False  \n",
       "2  Cheering. Whoo!. What is happening here. Somet...           False  "
      ]
     },
     "execution_count": 7,
     "metadata": {},
     "output_type": "execute_result"
    }
   ],
   "source": [
    "data.head(3)"
   ]
  },
  {
   "cell_type": "markdown",
   "metadata": {},
   "source": [
    "## POS Tagging"
   ]
  },
  {
   "cell_type": "markdown",
   "metadata": {},
   "source": [
    "In order to gain more information on the content of the lyrics, I am going to use a Part of Speach Tagger. "
   ]
  },
  {
   "cell_type": "code",
   "execution_count": 8,
   "metadata": {},
   "outputs": [],
   "source": [
    "nlp = spacy.load('en_core_web_lg')"
   ]
  },
  {
   "cell_type": "code",
   "execution_count": 9,
   "metadata": {
    "scrolled": false
   },
   "outputs": [],
   "source": [
    "def lyric_to_pos(lyric):\n",
    "    doc = nlp(lyric)\n",
    "    \n",
    "    # get the pos and append it to the token\n",
    "    pos_lyrics = [token.text + '_' + token.tag_ for token in doc]\n",
    "    return ' '.join(pos_lyrics)"
   ]
  },
  {
   "cell_type": "code",
   "execution_count": 10,
   "metadata": {},
   "outputs": [
    {
     "name": "stdout",
     "output_type": "stream",
     "text": [
      "Execution time: 67.26693824927013 min\n"
     ]
    }
   ],
   "source": [
    "start_time = time.time()\n",
    "# apply pos tagger\n",
    "pos_lyrics = data['lyrics'].apply(lyric_to_pos)\n",
    "end_time = time.time()\n",
    "print(\"Execution time: %s min\" % ((end_time - start_time)/60))"
   ]
  },
  {
   "cell_type": "code",
   "execution_count": 11,
   "metadata": {},
   "outputs": [],
   "source": [
    "data['pos_lyrics'] = pos_lyrics"
   ]
  },
  {
   "cell_type": "code",
   "execution_count": 12,
   "metadata": {},
   "outputs": [
    {
     "data": {
      "text/html": [
       "<div>\n",
       "<style scoped>\n",
       "    .dataframe tbody tr th:only-of-type {\n",
       "        vertical-align: middle;\n",
       "    }\n",
       "\n",
       "    .dataframe tbody tr th {\n",
       "        vertical-align: top;\n",
       "    }\n",
       "\n",
       "    .dataframe thead th {\n",
       "        text-align: right;\n",
       "    }\n",
       "</style>\n",
       "<table border=\"1\" class=\"dataframe\">\n",
       "  <thead>\n",
       "    <tr style=\"text-align: right;\">\n",
       "      <th></th>\n",
       "      <th>artist</th>\n",
       "      <th>title</th>\n",
       "      <th>lyrics</th>\n",
       "      <th>explicit_label</th>\n",
       "      <th>pos_lyrics</th>\n",
       "    </tr>\n",
       "  </thead>\n",
       "  <tbody>\n",
       "    <tr>\n",
       "      <th>0</th>\n",
       "      <td>Jim Croce</td>\n",
       "      <td>Top Hat Bar And Grille</td>\n",
       "      <td>Well, if you're lookin' for a good time. Look ...</td>\n",
       "      <td>False</td>\n",
       "      <td>Well_UH ,_, if_IN you_PRP 're_VBP lookin_JJ '_...</td>\n",
       "    </tr>\n",
       "    <tr>\n",
       "      <th>1</th>\n",
       "      <td>Aloe Blacc</td>\n",
       "      <td>The Hand Is Quicker</td>\n",
       "      <td>The hand is quicker than the eye. And sometime...</td>\n",
       "      <td>False</td>\n",
       "      <td>The_DT hand_NN is_VBZ quicker_JJR than_IN the_...</td>\n",
       "    </tr>\n",
       "    <tr>\n",
       "      <th>2</th>\n",
       "      <td>Lionel Richie</td>\n",
       "      <td>Dancing On The Ceiling</td>\n",
       "      <td>Cheering. Whoo!. What is happening here. Somet...</td>\n",
       "      <td>False</td>\n",
       "      <td>Cheering_VBG ._. Whoo_UH !_. ._. What_WP is_VB...</td>\n",
       "    </tr>\n",
       "  </tbody>\n",
       "</table>\n",
       "</div>"
      ],
      "text/plain": [
       "          artist                   title  \\\n",
       "0      Jim Croce  Top Hat Bar And Grille   \n",
       "1     Aloe Blacc     The Hand Is Quicker   \n",
       "2  Lionel Richie  Dancing On The Ceiling   \n",
       "\n",
       "                                              lyrics  explicit_label  \\\n",
       "0  Well, if you're lookin' for a good time. Look ...           False   \n",
       "1  The hand is quicker than the eye. And sometime...           False   \n",
       "2  Cheering. Whoo!. What is happening here. Somet...           False   \n",
       "\n",
       "                                          pos_lyrics  \n",
       "0  Well_UH ,_, if_IN you_PRP 're_VBP lookin_JJ '_...  \n",
       "1  The_DT hand_NN is_VBZ quicker_JJR than_IN the_...  \n",
       "2  Cheering_VBG ._. Whoo_UH !_. ._. What_WP is_VB...  "
      ]
     },
     "execution_count": 12,
     "metadata": {},
     "output_type": "execute_result"
    }
   ],
   "source": [
    "data.head(3)"
   ]
  },
  {
   "cell_type": "markdown",
   "metadata": {},
   "source": [
    "## Encode Labels"
   ]
  },
  {
   "cell_type": "markdown",
   "metadata": {},
   "source": [
    "Next, I will simply encode the `True`/`False` labels to be either 0 or 1. I will do this using the `LabelEncoder` from sklearn. "
   ]
  },
  {
   "cell_type": "code",
   "execution_count": 13,
   "metadata": {},
   "outputs": [],
   "source": [
    "le = LabelEncoder()\n",
    "le.fit(data['explicit_label'])\n",
    "y = pd.Series(le.transform(data['explicit_label']))\n",
    "data['explicit_label'] = y"
   ]
  },
  {
   "cell_type": "markdown",
   "metadata": {},
   "source": [
    "## TF-IDF"
   ]
  },
  {
   "cell_type": "markdown",
   "metadata": {},
   "source": [
    "The last major step will be convert the data into some numerical format that I can feed into a ML model To do this, I will use `TfidfVectorizer` from sklearn. I will also use unigrams, bigrams and trigrams and set the maximum number of features to 15000."
   ]
  },
  {
   "cell_type": "code",
   "execution_count": 14,
   "metadata": {},
   "outputs": [
    {
     "name": "stdout",
     "output_type": "stream",
     "text": [
      "Execution time: 1.4844204346338907 min\n"
     ]
    },
    {
     "data": {
      "text/html": [
       "<div>\n",
       "<style scoped>\n",
       "    .dataframe tbody tr th:only-of-type {\n",
       "        vertical-align: middle;\n",
       "    }\n",
       "\n",
       "    .dataframe tbody tr th {\n",
       "        vertical-align: top;\n",
       "    }\n",
       "\n",
       "    .dataframe thead th {\n",
       "        text-align: right;\n",
       "    }\n",
       "</style>\n",
       "<table border=\"1\" class=\"dataframe\">\n",
       "  <thead>\n",
       "    <tr style=\"text-align: right;\">\n",
       "      <th></th>\n",
       "      <th>__dt</th>\n",
       "      <th>__nn</th>\n",
       "      <th>__nn __nn</th>\n",
       "      <th>__nn __nn __nn</th>\n",
       "      <th>__sp</th>\n",
       "      <th>__sp __sp</th>\n",
       "      <th>__sp __sp __sp</th>\n",
       "      <th>__sp _fw</th>\n",
       "      <th>__sp _hyph</th>\n",
       "      <th>__sp _hyph int_nnp</th>\n",
       "      <th>...</th>\n",
       "      <th>z_nnp</th>\n",
       "      <th>zaman_nnp</th>\n",
       "      <th>zau_nnp</th>\n",
       "      <th>zau_nnp al_nnp</th>\n",
       "      <th>zau_nnp al_nnp _hyph</th>\n",
       "      <th>zed_nnp</th>\n",
       "      <th>zero_cd</th>\n",
       "      <th>zoe_nnp</th>\n",
       "      <th>zone_nn</th>\n",
       "      <th>zui_nnp</th>\n",
       "    </tr>\n",
       "  </thead>\n",
       "  <tbody>\n",
       "    <tr>\n",
       "      <th>0</th>\n",
       "      <td>0.0</td>\n",
       "      <td>0.0</td>\n",
       "      <td>0.0</td>\n",
       "      <td>0.0</td>\n",
       "      <td>0.000000</td>\n",
       "      <td>0.0</td>\n",
       "      <td>0.0</td>\n",
       "      <td>0.0</td>\n",
       "      <td>0.0</td>\n",
       "      <td>0.0</td>\n",
       "      <td>...</td>\n",
       "      <td>0.0</td>\n",
       "      <td>0.0</td>\n",
       "      <td>0.0</td>\n",
       "      <td>0.0</td>\n",
       "      <td>0.0</td>\n",
       "      <td>0.0</td>\n",
       "      <td>0.0</td>\n",
       "      <td>0.0</td>\n",
       "      <td>0.0</td>\n",
       "      <td>0.0</td>\n",
       "    </tr>\n",
       "    <tr>\n",
       "      <th>1</th>\n",
       "      <td>0.0</td>\n",
       "      <td>0.0</td>\n",
       "      <td>0.0</td>\n",
       "      <td>0.0</td>\n",
       "      <td>0.000000</td>\n",
       "      <td>0.0</td>\n",
       "      <td>0.0</td>\n",
       "      <td>0.0</td>\n",
       "      <td>0.0</td>\n",
       "      <td>0.0</td>\n",
       "      <td>...</td>\n",
       "      <td>0.0</td>\n",
       "      <td>0.0</td>\n",
       "      <td>0.0</td>\n",
       "      <td>0.0</td>\n",
       "      <td>0.0</td>\n",
       "      <td>0.0</td>\n",
       "      <td>0.0</td>\n",
       "      <td>0.0</td>\n",
       "      <td>0.0</td>\n",
       "      <td>0.0</td>\n",
       "    </tr>\n",
       "    <tr>\n",
       "      <th>2</th>\n",
       "      <td>0.0</td>\n",
       "      <td>0.0</td>\n",
       "      <td>0.0</td>\n",
       "      <td>0.0</td>\n",
       "      <td>0.041529</td>\n",
       "      <td>0.0</td>\n",
       "      <td>0.0</td>\n",
       "      <td>0.0</td>\n",
       "      <td>0.0</td>\n",
       "      <td>0.0</td>\n",
       "      <td>...</td>\n",
       "      <td>0.0</td>\n",
       "      <td>0.0</td>\n",
       "      <td>0.0</td>\n",
       "      <td>0.0</td>\n",
       "      <td>0.0</td>\n",
       "      <td>0.0</td>\n",
       "      <td>0.0</td>\n",
       "      <td>0.0</td>\n",
       "      <td>0.0</td>\n",
       "      <td>0.0</td>\n",
       "    </tr>\n",
       "    <tr>\n",
       "      <th>3</th>\n",
       "      <td>0.0</td>\n",
       "      <td>0.0</td>\n",
       "      <td>0.0</td>\n",
       "      <td>0.0</td>\n",
       "      <td>0.000000</td>\n",
       "      <td>0.0</td>\n",
       "      <td>0.0</td>\n",
       "      <td>0.0</td>\n",
       "      <td>0.0</td>\n",
       "      <td>0.0</td>\n",
       "      <td>...</td>\n",
       "      <td>0.0</td>\n",
       "      <td>0.0</td>\n",
       "      <td>0.0</td>\n",
       "      <td>0.0</td>\n",
       "      <td>0.0</td>\n",
       "      <td>0.0</td>\n",
       "      <td>0.0</td>\n",
       "      <td>0.0</td>\n",
       "      <td>0.0</td>\n",
       "      <td>0.0</td>\n",
       "    </tr>\n",
       "    <tr>\n",
       "      <th>4</th>\n",
       "      <td>0.0</td>\n",
       "      <td>0.0</td>\n",
       "      <td>0.0</td>\n",
       "      <td>0.0</td>\n",
       "      <td>0.000000</td>\n",
       "      <td>0.0</td>\n",
       "      <td>0.0</td>\n",
       "      <td>0.0</td>\n",
       "      <td>0.0</td>\n",
       "      <td>0.0</td>\n",
       "      <td>...</td>\n",
       "      <td>0.0</td>\n",
       "      <td>0.0</td>\n",
       "      <td>0.0</td>\n",
       "      <td>0.0</td>\n",
       "      <td>0.0</td>\n",
       "      <td>0.0</td>\n",
       "      <td>0.0</td>\n",
       "      <td>0.0</td>\n",
       "      <td>0.0</td>\n",
       "      <td>0.0</td>\n",
       "    </tr>\n",
       "  </tbody>\n",
       "</table>\n",
       "<p>5 rows × 30000 columns</p>\n",
       "</div>"
      ],
      "text/plain": [
       "   __dt  __nn  __nn __nn  __nn __nn __nn      __sp  __sp __sp  __sp __sp __sp  \\\n",
       "0   0.0   0.0        0.0             0.0  0.000000        0.0             0.0   \n",
       "1   0.0   0.0        0.0             0.0  0.000000        0.0             0.0   \n",
       "2   0.0   0.0        0.0             0.0  0.041529        0.0             0.0   \n",
       "3   0.0   0.0        0.0             0.0  0.000000        0.0             0.0   \n",
       "4   0.0   0.0        0.0             0.0  0.000000        0.0             0.0   \n",
       "\n",
       "   __sp _fw  __sp _hyph  __sp _hyph int_nnp  ...  z_nnp  zaman_nnp  zau_nnp  \\\n",
       "0       0.0         0.0                 0.0  ...    0.0        0.0      0.0   \n",
       "1       0.0         0.0                 0.0  ...    0.0        0.0      0.0   \n",
       "2       0.0         0.0                 0.0  ...    0.0        0.0      0.0   \n",
       "3       0.0         0.0                 0.0  ...    0.0        0.0      0.0   \n",
       "4       0.0         0.0                 0.0  ...    0.0        0.0      0.0   \n",
       "\n",
       "   zau_nnp al_nnp  zau_nnp al_nnp _hyph  zed_nnp  zero_cd  zoe_nnp  zone_nn  \\\n",
       "0             0.0                   0.0      0.0      0.0      0.0      0.0   \n",
       "1             0.0                   0.0      0.0      0.0      0.0      0.0   \n",
       "2             0.0                   0.0      0.0      0.0      0.0      0.0   \n",
       "3             0.0                   0.0      0.0      0.0      0.0      0.0   \n",
       "4             0.0                   0.0      0.0      0.0      0.0      0.0   \n",
       "\n",
       "   zui_nnp  \n",
       "0      0.0  \n",
       "1      0.0  \n",
       "2      0.0  \n",
       "3      0.0  \n",
       "4      0.0  \n",
       "\n",
       "[5 rows x 30000 columns]"
      ]
     },
     "execution_count": 14,
     "metadata": {},
     "output_type": "execute_result"
    }
   ],
   "source": [
    "start_time = time.time()\n",
    "tfidf = TfidfVectorizer()\n",
    "tfidf = TfidfVectorizer(max_features=30000, ngram_range=(1,3))\n",
    "X = tfidf.fit_transform(data['pos_lyrics']).toarray()\n",
    "X = pd.DataFrame(X, columns=tfidf.get_feature_names())\n",
    "end_time = time.time()\n",
    "print(\"Execution time: %s min\" % ((end_time - start_time)/60))\n",
    "X.head()"
   ]
  },
  {
   "cell_type": "markdown",
   "metadata": {},
   "source": [
    "## Create Training and Testing Sets"
   ]
  },
  {
   "cell_type": "markdown",
   "metadata": {},
   "source": [
    "The only thing left to do is to create the training and testing sets. I will use `train_test_split` to accomplish this and do a 70-30 split."
   ]
  },
  {
   "cell_type": "code",
   "execution_count": 15,
   "metadata": {},
   "outputs": [],
   "source": [
    "X_train, X_test, y_train, y_test = train_test_split(X, y, test_size=0.3, random_state=1)"
   ]
  },
  {
   "cell_type": "code",
   "execution_count": 16,
   "metadata": {},
   "outputs": [],
   "source": [
    "X_train.to_csv('../data/X_train.csv')\n",
    "X_test.to_csv('../data/X_test.csv')\n",
    "y_train.to_csv('../data/y_train.csv')\n",
    "y_test.to_csv('../data/y_test.csv')"
   ]
  }
 ],
 "metadata": {
  "kernelspec": {
   "display_name": "Python 3",
   "language": "python",
   "name": "python3"
  },
  "language_info": {
   "codemirror_mode": {
    "name": "ipython",
    "version": 3
   },
   "file_extension": ".py",
   "mimetype": "text/x-python",
   "name": "python",
   "nbconvert_exporter": "python",
   "pygments_lexer": "ipython3",
   "version": "3.8.8"
  }
 },
 "nbformat": 4,
 "nbformat_minor": 2
}
